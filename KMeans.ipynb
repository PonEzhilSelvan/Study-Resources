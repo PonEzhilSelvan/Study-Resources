{
 "cells": [
  {
   "cell_type": "code",
   "execution_count": 131,
   "id": "cf1e7052-e3a6-4335-9bbb-bbe088095796",
   "metadata": {},
   "outputs": [],
   "source": [
    "#import section\n",
    "\n",
    "import pandas as pd\n",
    "import numpy as np\n",
    "import matplotlib.pyplot as plt\n",
    "%matplotlib inline\n",
    "import warnings\n",
    "warnings.filterwarnings('ignore')\n"
   ]
  },
  {
   "cell_type": "code",
   "execution_count": 133,
   "id": "e44870af-13be-4314-848a-19e7e209b472",
   "metadata": {},
   "outputs": [
    {
     "data": {
      "text/html": [
       "<div>\n",
       "<style scoped>\n",
       "    .dataframe tbody tr th:only-of-type {\n",
       "        vertical-align: middle;\n",
       "    }\n",
       "\n",
       "    .dataframe tbody tr th {\n",
       "        vertical-align: top;\n",
       "    }\n",
       "\n",
       "    .dataframe thead th {\n",
       "        text-align: right;\n",
       "    }\n",
       "</style>\n",
       "<table border=\"1\" class=\"dataframe\">\n",
       "  <thead>\n",
       "    <tr style=\"text-align: right;\">\n",
       "      <th></th>\n",
       "      <th>Customer Id</th>\n",
       "      <th>Age</th>\n",
       "      <th>Edu</th>\n",
       "      <th>Years Employed</th>\n",
       "      <th>Income</th>\n",
       "      <th>Card Debt</th>\n",
       "      <th>Other Debt</th>\n",
       "      <th>Defaulted</th>\n",
       "      <th>Address</th>\n",
       "      <th>DebtIncomeRatio</th>\n",
       "    </tr>\n",
       "  </thead>\n",
       "  <tbody>\n",
       "    <tr>\n",
       "      <th>0</th>\n",
       "      <td>1</td>\n",
       "      <td>41</td>\n",
       "      <td>2</td>\n",
       "      <td>6</td>\n",
       "      <td>19</td>\n",
       "      <td>0.124</td>\n",
       "      <td>1.073</td>\n",
       "      <td>0</td>\n",
       "      <td>NBA001</td>\n",
       "      <td>6.3</td>\n",
       "    </tr>\n",
       "    <tr>\n",
       "      <th>1</th>\n",
       "      <td>2</td>\n",
       "      <td>47</td>\n",
       "      <td>1</td>\n",
       "      <td>26</td>\n",
       "      <td>100</td>\n",
       "      <td>4.582</td>\n",
       "      <td>8.218</td>\n",
       "      <td>0</td>\n",
       "      <td>NBA021</td>\n",
       "      <td>12.8</td>\n",
       "    </tr>\n",
       "  </tbody>\n",
       "</table>\n",
       "</div>"
      ],
      "text/plain": [
       "   Customer Id  Age  Edu  Years Employed  Income  Card Debt  Other Debt  \\\n",
       "0            1   41    2               6      19      0.124       1.073   \n",
       "1            2   47    1              26     100      4.582       8.218   \n",
       "\n",
       "   Defaulted Address  DebtIncomeRatio  \n",
       "0          0  NBA001              6.3  \n",
       "1          0  NBA021             12.8  "
      ]
     },
     "execution_count": 133,
     "metadata": {},
     "output_type": "execute_result"
    }
   ],
   "source": [
    "df = pd.read_csv('Cust_Segmentation.csv')\n",
    "df.head(2)\n"
   ]
  },
  {
   "cell_type": "code",
   "execution_count": 135,
   "id": "bba538f2-4095-466e-b0e1-8b16a47049ce",
   "metadata": {},
   "outputs": [
    {
     "data": {
      "text/plain": [
       "(850, 10)"
      ]
     },
     "execution_count": 135,
     "metadata": {},
     "output_type": "execute_result"
    }
   ],
   "source": [
    "df.shape"
   ]
  },
  {
   "cell_type": "markdown",
   "id": "dbc8928c-b044-408a-892a-da1a2443b372",
   "metadata": {},
   "source": [
    "#### Data Cleansing"
   ]
  },
  {
   "cell_type": "markdown",
   "id": "a1328d4a-5cfc-4cbe-a82b-c8118580da51",
   "metadata": {},
   "source": [
    "1) Remove columns that does not add any value to the clustering"
   ]
  },
  {
   "cell_type": "code",
   "execution_count": 137,
   "id": "41a43bfb-a303-4e7b-93ff-adfacd17c05c",
   "metadata": {},
   "outputs": [],
   "source": [
    "X = df.drop(columns= ['Customer Id' , 'Address'])"
   ]
  },
  {
   "cell_type": "code",
   "execution_count": 139,
   "id": "91d630c4-723d-4999-8350-ed25f1ca6d05",
   "metadata": {},
   "outputs": [
    {
     "data": {
      "text/html": [
       "<div>\n",
       "<style scoped>\n",
       "    .dataframe tbody tr th:only-of-type {\n",
       "        vertical-align: middle;\n",
       "    }\n",
       "\n",
       "    .dataframe tbody tr th {\n",
       "        vertical-align: top;\n",
       "    }\n",
       "\n",
       "    .dataframe thead th {\n",
       "        text-align: right;\n",
       "    }\n",
       "</style>\n",
       "<table border=\"1\" class=\"dataframe\">\n",
       "  <thead>\n",
       "    <tr style=\"text-align: right;\">\n",
       "      <th></th>\n",
       "      <th>Age</th>\n",
       "      <th>Edu</th>\n",
       "      <th>Years Employed</th>\n",
       "      <th>Income</th>\n",
       "      <th>Card Debt</th>\n",
       "      <th>Other Debt</th>\n",
       "      <th>Defaulted</th>\n",
       "      <th>DebtIncomeRatio</th>\n",
       "    </tr>\n",
       "  </thead>\n",
       "  <tbody>\n",
       "    <tr>\n",
       "      <th>0</th>\n",
       "      <td>41</td>\n",
       "      <td>2</td>\n",
       "      <td>6</td>\n",
       "      <td>19</td>\n",
       "      <td>0.124</td>\n",
       "      <td>1.073</td>\n",
       "      <td>0</td>\n",
       "      <td>6.3</td>\n",
       "    </tr>\n",
       "    <tr>\n",
       "      <th>1</th>\n",
       "      <td>47</td>\n",
       "      <td>1</td>\n",
       "      <td>26</td>\n",
       "      <td>100</td>\n",
       "      <td>4.582</td>\n",
       "      <td>8.218</td>\n",
       "      <td>0</td>\n",
       "      <td>12.8</td>\n",
       "    </tr>\n",
       "    <tr>\n",
       "      <th>2</th>\n",
       "      <td>33</td>\n",
       "      <td>2</td>\n",
       "      <td>10</td>\n",
       "      <td>57</td>\n",
       "      <td>6.111</td>\n",
       "      <td>5.802</td>\n",
       "      <td>1</td>\n",
       "      <td>20.9</td>\n",
       "    </tr>\n",
       "    <tr>\n",
       "      <th>3</th>\n",
       "      <td>29</td>\n",
       "      <td>2</td>\n",
       "      <td>4</td>\n",
       "      <td>19</td>\n",
       "      <td>0.681</td>\n",
       "      <td>0.516</td>\n",
       "      <td>0</td>\n",
       "      <td>6.3</td>\n",
       "    </tr>\n",
       "    <tr>\n",
       "      <th>4</th>\n",
       "      <td>47</td>\n",
       "      <td>1</td>\n",
       "      <td>31</td>\n",
       "      <td>253</td>\n",
       "      <td>9.308</td>\n",
       "      <td>8.908</td>\n",
       "      <td>0</td>\n",
       "      <td>7.2</td>\n",
       "    </tr>\n",
       "  </tbody>\n",
       "</table>\n",
       "</div>"
      ],
      "text/plain": [
       "   Age  Edu  Years Employed  Income  Card Debt  Other Debt  Defaulted  \\\n",
       "0   41    2               6      19      0.124       1.073          0   \n",
       "1   47    1              26     100      4.582       8.218          0   \n",
       "2   33    2              10      57      6.111       5.802          1   \n",
       "3   29    2               4      19      0.681       0.516          0   \n",
       "4   47    1              31     253      9.308       8.908          0   \n",
       "\n",
       "   DebtIncomeRatio  \n",
       "0              6.3  \n",
       "1             12.8  \n",
       "2             20.9  \n",
       "3              6.3  \n",
       "4              7.2  "
      ]
     },
     "execution_count": 139,
     "metadata": {},
     "output_type": "execute_result"
    }
   ],
   "source": [
    "X.head(5)"
   ]
  },
  {
   "cell_type": "markdown",
   "id": "2a13094a-9043-4174-a81a-66f9b24b7afb",
   "metadata": {},
   "source": [
    "2) Check for null values"
   ]
  },
  {
   "cell_type": "code",
   "execution_count": 141,
   "id": "7acc77ce-697c-4379-9be0-14c19446709e",
   "metadata": {},
   "outputs": [
    {
     "data": {
      "text/plain": [
       "Age                0\n",
       "Edu                0\n",
       "Years Employed     0\n",
       "Income             0\n",
       "Card Debt          0\n",
       "Other Debt         0\n",
       "Defaulted          0\n",
       "DebtIncomeRatio    0\n",
       "dtype: int64"
      ]
     },
     "execution_count": 141,
     "metadata": {},
     "output_type": "execute_result"
    }
   ],
   "source": [
    "X.isna().sum()\n"
   ]
  },
  {
   "cell_type": "code",
   "execution_count": 57,
   "id": "de9683fe-39d8-41eb-a139-2e946291f774",
   "metadata": {},
   "outputs": [],
   "source": [
    "#Y = pd.isnull(df['Age'])\n",
    "#missgin_data = df[Y]\n",
    "#missgin_data"
   ]
  },
  {
   "cell_type": "code",
   "execution_count": 143,
   "id": "869dd96c-5e9d-4e06-a457-bed768abc240",
   "metadata": {},
   "outputs": [
    {
     "data": {
      "image/png": "[encoded data removed]",
      "text/plain": [
       "<Figure size 640x480 with 1 Axes>"
      ]
     },
     "metadata": {},
     "output_type": "display_data"
    },
    {
     "data": {
      "image/png": "[encoded data removed]",
      "text/plain": [
       "<Figure size 640x480 with 1 Axes>"
      ]
     },
     "metadata": {},
     "output_type": "display_data"
    },
    {
     "data": {
      "image/png": "[encoded data removed]",
      "text/plain": [
       "<Figure size 640x480 with 1 Axes>"
      ]
     },
     "metadata": {},
     "output_type": "display_data"
    },
    {
     "data": {
      "image/png": "[encoded data removed]",
      "text/plain": [
       "<Figure size 640x480 with 1 Axes>"
      ]
     },
     "metadata": {},
     "output_type": "display_data"
    },
    {
     "data": {
      "image/png": "[encoded data removed]",
      "text/plain": [
       "<Figure size 640x480 with 1 Axes>"
      ]
     },
     "metadata": {},
     "output_type": "display_data"
    },
    {
     "data": {
      "image/png": "[encoded data removed]",
      "text/plain": [
       "<Figure size 640x480 with 1 Axes>"
      ]
     },
     "metadata": {},
     "output_type": "display_data"
    },
    {
     "data": {
      "image/png": "[encoded data removed]",
      "text/plain": [
       "<Figure size 640x480 with 1 Axes>"
      ]
     },
     "metadata": {},
     "output_type": "display_data"
    },
    {
     "data": {
      "image/png": "[encoded data removed]",
      "text/plain": [
       "<Figure size 640x480 with 1 Axes>"
      ]
     },
     "metadata": {},
     "output_type": "display_data"
    }
   ],
   "source": [
    "## Finding cloumns which are having  Outliers\n",
    " \n",
    "for column in X:\n",
    "    X.boxplot([column] , vert =False)\n",
    "    plt.show()"
   ]
  },
  {
   "cell_type": "code",
   "execution_count": 161,
   "id": "a82c0dd8-cb0a-4b15-8760-403a67f0bb02",
   "metadata": {},
   "outputs": [],
   "source": [
    "#Remove outliers\n",
    "def remove_outlier_rows(df_in) :\n",
    "    df_out = df_in.copy()\n",
    "    rows_to_drop = set()\n",
    "\n",
    "    for col_name in df_in.columns :\n",
    "        q1 = df_in[col_name].quantile(0.25)\n",
    "        q3 = df_in[col_name].quantile(0.75)\n",
    "        iqr = q3 - q1\n",
    "        low_point  =  q1 - 1.5*iqr\n",
    "        high_point =  q3 + 1.5*iqr\n",
    "        outlier_rows = df_in[(df_in[col_name] < low_point) | (df_in[col_name] > high_point)].index\n",
    "        rows_to_drop.update(outlier_rows)\n",
    "          \n",
    "    df_out = df_out.drop(rows_to_drop)\n",
    "    return df_out\n",
    "\n",
    "or_X = remove_outlier_rows(X)\n",
    "#or_X\n",
    "    \n",
    "       "
   ]
  },
  {
   "cell_type": "code",
   "execution_count": 165,
   "id": "76911b01-ba73-40f4-8c0d-0105208613ab",
   "metadata": {
    "scrolled": true
   },
   "outputs": [
    {
     "data": {
      "text/plain": [
       "(540, 8)"
      ]
     },
     "execution_count": 165,
     "metadata": {},
     "output_type": "execute_result"
    }
   ],
   "source": [
    "\n",
    "def remove_outlier_rows(df_in):\n",
    "    df_out = df_in.copy()\n",
    "    rows_to_drop = set()\n",
    "    \n",
    "    for col_name in df_in.columns:\n",
    "        q1 = df_in[col_name].quantile(0.25)\n",
    "        q3 = df_in[col_name].quantile(0.75)\n",
    "    \n",
    "        iqr = q3 - q1\n",
    "        fence_low = q1 -1.5*iqr\n",
    "        fence_high = q3 +1.5*iqr\n",
    "        \n",
    "        #print(col_name, q1,q3)\n",
    "        \n",
    "        #display(df_in[(df_in[col_name]<fence_low) | (df_in[col_name]>fence_high)])\n",
    "        \n",
    "        outlier_rows = df_in[(df_in[col_name]<fence_low) | (df_in[col_name]>fence_high)].index\n",
    "        rows_to_drop.update(outlier_rows)\n",
    "        \n",
    "    df_out = df_out.drop(rows_to_drop)\n",
    "    return df_out \n",
    "or_X = remove_outlier_rows(X)        \n",
    "or_X.shape\n"
   ]
  },
  {
   "cell_type": "code",
   "execution_count": 167,
   "id": "ac74b75f-9a58-46e4-810d-036204f09275",
   "metadata": {},
   "outputs": [],
   "source": [
    "orginal_X = X.copy()\n",
    "X = or_X.copy()"
   ]
  },
  {
   "cell_type": "code",
   "execution_count": 185,
   "id": "4a373fcd-4a6f-41a2-9485-601379dc3a0b",
   "metadata": {},
   "outputs": [],
   "source": [
    "#Implement KMeans\n",
    "#finding Cluster no's by elbow diagram\n",
    "from sklearn.cluster import KMeans\n",
    "\n",
    "res = []\n",
    "for k in range(1,8) :\n",
    "    clus = KMeans(n_clusters = k , random_state = 42)\n",
    "    clus.fit(X)\n",
    "    cl_labels = clus.predict(X)\n",
    "    res.append(clus.inertia_) # Interia provides WCSS \n"
   ]
  },
  {
   "cell_type": "code",
   "execution_count": 191,
   "id": "4133f7ef-3570-473f-a577-66dc4acaa1a8",
   "metadata": {},
   "outputs": [
    {
     "data": {
      "image/png": "[encoded data removed]",
      "text/plain": [
       "<Figure size 640x480 with 1 Axes>"
      ]
     },
     "metadata": {},
     "output_type": "display_data"
    }
   ],
   "source": [
    "\n",
    "plt.plot(range(1,8),res)\n",
    "plt.show()"
   ]
  },
  {
   "cell_type": "code",
   "execution_count": 199,
   "id": "3c4b2300-3c5b-4d2b-bf96-87df86546f78",
   "metadata": {},
   "outputs": [],
   "source": [
    "k_cluster = KMeans(n_clusters = 3, random_state = 42)\n",
    "k_cluster.fit(X)\n",
    "k_labels = k_cluster.predict(X)\n",
    "X['Cluster_labels'] = k_labels"
   ]
  },
  {
   "cell_type": "code",
   "execution_count": 201,
   "id": "7f548491-c907-457b-8f0c-b73703024b89",
   "metadata": {},
   "outputs": [
    {
     "data": {
      "text/html": [
       "<div>\n",
       "<style scoped>\n",
       "    .dataframe tbody tr th:only-of-type {\n",
       "        vertical-align: middle;\n",
       "    }\n",
       "\n",
       "    .dataframe tbody tr th {\n",
       "        vertical-align: top;\n",
       "    }\n",
       "\n",
       "    .dataframe thead th {\n",
       "        text-align: right;\n",
       "    }\n",
       "</style>\n",
       "<table border=\"1\" class=\"dataframe\">\n",
       "  <thead>\n",
       "    <tr style=\"text-align: right;\">\n",
       "      <th></th>\n",
       "      <th>Age</th>\n",
       "      <th>Edu</th>\n",
       "      <th>Years Employed</th>\n",
       "      <th>Income</th>\n",
       "      <th>Card Debt</th>\n",
       "      <th>Other Debt</th>\n",
       "      <th>Defaulted</th>\n",
       "      <th>DebtIncomeRatio</th>\n",
       "      <th>Cluster_labels</th>\n",
       "    </tr>\n",
       "  </thead>\n",
       "  <tbody>\n",
       "    <tr>\n",
       "      <th>0</th>\n",
       "      <td>41</td>\n",
       "      <td>2</td>\n",
       "      <td>6</td>\n",
       "      <td>19</td>\n",
       "      <td>0.124</td>\n",
       "      <td>1.073</td>\n",
       "      <td>0</td>\n",
       "      <td>6.3</td>\n",
       "      <td>1</td>\n",
       "    </tr>\n",
       "    <tr>\n",
       "      <th>3</th>\n",
       "      <td>29</td>\n",
       "      <td>2</td>\n",
       "      <td>4</td>\n",
       "      <td>19</td>\n",
       "      <td>0.681</td>\n",
       "      <td>0.516</td>\n",
       "      <td>0</td>\n",
       "      <td>6.3</td>\n",
       "      <td>1</td>\n",
       "    </tr>\n",
       "    <tr>\n",
       "      <th>5</th>\n",
       "      <td>40</td>\n",
       "      <td>1</td>\n",
       "      <td>23</td>\n",
       "      <td>81</td>\n",
       "      <td>0.998</td>\n",
       "      <td>7.831</td>\n",
       "      <td>0</td>\n",
       "      <td>10.9</td>\n",
       "      <td>0</td>\n",
       "    </tr>\n",
       "    <tr>\n",
       "      <th>6</th>\n",
       "      <td>38</td>\n",
       "      <td>2</td>\n",
       "      <td>4</td>\n",
       "      <td>56</td>\n",
       "      <td>0.442</td>\n",
       "      <td>0.454</td>\n",
       "      <td>0</td>\n",
       "      <td>1.6</td>\n",
       "      <td>2</td>\n",
       "    </tr>\n",
       "    <tr>\n",
       "      <th>7</th>\n",
       "      <td>42</td>\n",
       "      <td>3</td>\n",
       "      <td>0</td>\n",
       "      <td>64</td>\n",
       "      <td>0.279</td>\n",
       "      <td>3.945</td>\n",
       "      <td>0</td>\n",
       "      <td>6.6</td>\n",
       "      <td>0</td>\n",
       "    </tr>\n",
       "    <tr>\n",
       "      <th>...</th>\n",
       "      <td>...</td>\n",
       "      <td>...</td>\n",
       "      <td>...</td>\n",
       "      <td>...</td>\n",
       "      <td>...</td>\n",
       "      <td>...</td>\n",
       "      <td>...</td>\n",
       "      <td>...</td>\n",
       "      <td>...</td>\n",
       "    </tr>\n",
       "    <tr>\n",
       "      <th>844</th>\n",
       "      <td>41</td>\n",
       "      <td>1</td>\n",
       "      <td>7</td>\n",
       "      <td>43</td>\n",
       "      <td>0.694</td>\n",
       "      <td>1.198</td>\n",
       "      <td>0</td>\n",
       "      <td>4.4</td>\n",
       "      <td>2</td>\n",
       "    </tr>\n",
       "    <tr>\n",
       "      <th>845</th>\n",
       "      <td>27</td>\n",
       "      <td>1</td>\n",
       "      <td>5</td>\n",
       "      <td>26</td>\n",
       "      <td>0.548</td>\n",
       "      <td>1.220</td>\n",
       "      <td>0</td>\n",
       "      <td>6.8</td>\n",
       "      <td>1</td>\n",
       "    </tr>\n",
       "    <tr>\n",
       "      <th>846</th>\n",
       "      <td>28</td>\n",
       "      <td>2</td>\n",
       "      <td>7</td>\n",
       "      <td>34</td>\n",
       "      <td>0.359</td>\n",
       "      <td>2.021</td>\n",
       "      <td>0</td>\n",
       "      <td>7.0</td>\n",
       "      <td>1</td>\n",
       "    </tr>\n",
       "    <tr>\n",
       "      <th>848</th>\n",
       "      <td>32</td>\n",
       "      <td>1</td>\n",
       "      <td>12</td>\n",
       "      <td>28</td>\n",
       "      <td>0.116</td>\n",
       "      <td>0.696</td>\n",
       "      <td>0</td>\n",
       "      <td>2.9</td>\n",
       "      <td>1</td>\n",
       "    </tr>\n",
       "    <tr>\n",
       "      <th>849</th>\n",
       "      <td>52</td>\n",
       "      <td>1</td>\n",
       "      <td>16</td>\n",
       "      <td>64</td>\n",
       "      <td>1.866</td>\n",
       "      <td>3.638</td>\n",
       "      <td>0</td>\n",
       "      <td>8.6</td>\n",
       "      <td>0</td>\n",
       "    </tr>\n",
       "  </tbody>\n",
       "</table>\n",
       "<p>540 rows × 9 columns</p>\n",
       "</div>"
      ],
      "text/plain": [
       "     Age  Edu  Years Employed  Income  Card Debt  Other Debt  Defaulted  \\\n",
       "0     41    2               6      19      0.124       1.073          0   \n",
       "3     29    2               4      19      0.681       0.516          0   \n",
       "5     40    1              23      81      0.998       7.831          0   \n",
       "6     38    2               4      56      0.442       0.454          0   \n",
       "7     42    3               0      64      0.279       3.945          0   \n",
       "..   ...  ...             ...     ...        ...         ...        ...   \n",
       "844   41    1               7      43      0.694       1.198          0   \n",
       "845   27    1               5      26      0.548       1.220          0   \n",
       "846   28    2               7      34      0.359       2.021          0   \n",
       "848   32    1              12      28      0.116       0.696          0   \n",
       "849   52    1              16      64      1.866       3.638          0   \n",
       "\n",
       "     DebtIncomeRatio  Cluster_labels  \n",
       "0                6.3               1  \n",
       "3                6.3               1  \n",
       "5               10.9               0  \n",
       "6                1.6               2  \n",
       "7                6.6               0  \n",
       "..               ...             ...  \n",
       "844              4.4               2  \n",
       "845              6.8               1  \n",
       "846              7.0               1  \n",
       "848              2.9               1  \n",
       "849              8.6               0  \n",
       "\n",
       "[540 rows x 9 columns]"
      ]
     },
     "execution_count": 201,
     "metadata": {},
     "output_type": "execute_result"
    }
   ],
   "source": [
    "X\n"
   ]
  },
  {
   "cell_type": "code",
   "execution_count": 203,
   "id": "9f808258-58ae-4261-a9b7-719ee9c0c28d",
   "metadata": {},
   "outputs": [
    {
     "data": {
      "text/plain": [
       "Cluster_labels\n",
       "1    284\n",
       "2    176\n",
       "0     80\n",
       "Name: count, dtype: int64"
      ]
     },
     "execution_count": 203,
     "metadata": {},
     "output_type": "execute_result"
    }
   ],
   "source": [
    "X['Cluster_labels'].value_counts()"
   ]
  },
  {
   "cell_type": "code",
   "execution_count": null,
   "id": "28be98e8-554f-42bb-ae89-0b85d5ef11a6",
   "metadata": {},
   "outputs": [],
   "source": []
  }
 ],
 "metadata": {
  "kernelspec": {
   "display_name": "Python 3 (ipykernel)",
   "language": "python",
   "name": "python3"
  },
  "language_info": {
   "codemirror_mode": {
    "name": "ipython",
    "version": 3
   },
   "file_extension": ".py",
   "mimetype": "text/x-python",
   "name": "python",
   "nbconvert_exporter": "python",
   "pygments_lexer": "ipython3",
   "version": "3.11.7"
  }
 },
 "nbformat": 4,
 "nbformat_minor": 5
}
