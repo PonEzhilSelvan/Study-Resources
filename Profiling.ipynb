{
 "cells": [
  {
   "cell_type": "code",
   "execution_count": 1,
   "metadata": {},
   "outputs": [
    {
     "name": "stdout",
     "output_type": "stream",
     "text": [
      "Collecting line_profiler\n",
      "  Downloading https://files.pythonhosted.org/packages/ed/5d/5c8ce38af777b844c972287319ea05b6dca6fd2d1dafee4520f8d642e68c/line_profiler-4.1.3-cp36-cp36m-win_amd64.whl (130kB)\n",
      "Installing collected packages: line-profiler\n",
      "Successfully installed line-profiler-4.1.3\n"
     ]
    },
    {
     "name": "stderr",
     "output_type": "stream",
     "text": [
      "You are using pip version 9.0.1, however version 24.3.1 is available.\n",
      "You should consider upgrading via the 'python -m pip install --upgrade pip' command.\n"
     ]
    }
   ],
   "source": [
    "!pip install line_profiler\n"
   ]
  },
  {
   "cell_type": "code",
   "execution_count": 2,
   "metadata": {
    "collapsed": true
   },
   "outputs": [],
   "source": [
    "%load_ext line_profiler"
   ]
  },
  {
   "cell_type": "code",
   "execution_count": 5,
   "metadata": {},
   "outputs": [],
   "source": [
    "def sum_of_lists(N) :\n",
    "    total = 0\n",
    "    for i in range(5) :\n",
    "    #List Comphrehension in for loop\n",
    "        L = [j^ (j >> 1) for j in range (N)] \n",
    "        total += sum(L)\n",
    "    return total\n",
    "                "
   ]
  },
  {
   "cell_type": "code",
   "execution_count": 8,
   "metadata": {
    "collapsed": true
   },
   "outputs": [],
   "source": [
    "#line by line Profiling -provides the time in milli seconds\n",
    "%lprun -f sum_of_lists sum_of_lists(5000)"
   ]
  },
  {
   "cell_type": "markdown",
   "metadata": {},
   "source": [
    "4 function calls in 0.696 seconds\n",
    "\n",
    "   Ordered by: internal time\n",
    "\n",
    "   ncalls  tottime  percall  cumtime  percall filename:lineno(function)\n",
    "        5    0.550    0.110    0.550    0.110 <ipython-input-5-e36250cf8b7a>:5(<listcomp>)\n",
    "        5    0.099    0.020    0.099    0.020 {built-in method builtins.sum}\n",
    "        1    0.038    0.038    0.687    0.687 <ipython-input-5-e36250cf8b7a>:1(sum_of_lists)\n",
    "        1    0.010    0.010    0.696    0.696 <string>:1(<module>)\n",
    "        1    0.000    0.000    0.696    0.696 {built-in method builtins.exec}\n",
    "        1    0.000    0.000    0.000    0.000 {method 'disable' of '_lsprof.Profiler' objects}"
   ]
  },
  {
   "cell_type": "code",
   "execution_count": 21,
   "metadata": {},
   "outputs": [
    {
     "name": "stdout",
     "output_type": "stream",
     "text": [
      " "
     ]
    }
   ],
   "source": [
    "#prun to find profile results\n",
    "%prun sum_of_lists(1000000)"
   ]
  },
  {
   "cell_type": "markdown",
   "metadata": {},
   "source": [
    "#memory_profiler-> to check the memory usage"
   ]
  },
  {
   "cell_type": "code",
   "execution_count": 9,
   "metadata": {},
   "outputs": [
    {
     "name": "stdout",
     "output_type": "stream",
     "text": [
      "Collecting memory_profiler\n",
      "  Downloading https://files.pythonhosted.org/packages/49/26/aaca612a0634ceede20682e692a6c55e35a94c21ba36b807cc40fe910ae1/memory_profiler-0.61.0-py3-none-any.whl\n",
      "Requirement already satisfied: psutil in c:\\users\\2000670\\appdata\\local\\continuum\\anaconda3\\lib\\site-packages (from memory_profiler)\n",
      "Installing collected packages: memory-profiler\n",
      "Successfully installed memory-profiler-0.61.0\n"
     ]
    },
    {
     "name": "stderr",
     "output_type": "stream",
     "text": [
      "You are using pip version 9.0.1, however version 24.3.1 is available.\n",
      "You should consider upgrading via the 'python -m pip install --upgrade pip' command.\n"
     ]
    }
   ],
   "source": [
    "!pip install memory_profiler\n"
   ]
  },
  {
   "cell_type": "code",
   "execution_count": 10,
   "metadata": {
    "collapsed": true
   },
   "outputs": [],
   "source": [
    "%load_ext memory_profiler"
   ]
  },
  {
   "cell_type": "code",
   "execution_count": 11,
   "metadata": {},
   "outputs": [
    {
     "name": "stdout",
     "output_type": "stream",
     "text": [
      "peak memory: 136.75 MiB, increment: 68.46 MiB\n"
     ]
    }
   ],
   "source": [
    "%memit sum_of_lists(1000000)  #memory usage in MB"
   ]
  },
  {
   "cell_type": "markdown",
   "metadata": {},
   "source": [
    "For a line-by-line description of memory use, we can use the %mprun magic. \n",
    "Unfortunately, this magic works only for functions defined in separate modules rather than the notebook itself, \n",
    "so we'll start by using the %%file magic to create a simple module called mprun_demo.py, \n",
    "which contains our sum_of_lists function, with one addition that will make our memory profiling results more clear:\n"
   ]
  },
  {
   "cell_type": "code",
   "execution_count": 15,
   "metadata": {},
   "outputs": [
    {
     "name": "stdout",
     "output_type": "stream",
     "text": [
      "Overwriting mprun_demo.py\n"
     ]
    }
   ],
   "source": [
    "%%file mprun_demo.py\n",
    "def sum_of_list(N) :\n",
    "    total =0 \n",
    "    for i in range(5) : \n",
    "        L = [j^ (j >> 1) for j in range (N)] \n",
    "        total += sum(L)\n",
    "        del L ##Remove Ref to L\n",
    "    return total    \n"
   ]
  },
  {
   "cell_type": "markdown",
   "metadata": {},
   "source": [
    "We can now import the new version of this function and run the memory line profiler:\n",
    "\n"
   ]
  },
  {
   "cell_type": "code",
   "execution_count": 18,
   "metadata": {},
   "outputs": [
    {
     "name": "stdout",
     "output_type": "stream",
     "text": [
      "\n"
     ]
    }
   ],
   "source": [
    "from mprun_demo  import sum_of_list\n",
    "%mprun -f sum_of_list sum_of_list(100000)"
   ]
  },
  {
   "cell_type": "markdown",
   "metadata": {},
   "source": [
    "Filename: D:\\Data_Science\\Data_Science\\Matplotlib\\mprun_demo.py\n",
    "\n",
    "Line #    Mem usage    Increment  Occurrences   Line Contents\n",
    "=============================================================\n",
    "     1     69.9 MiB     69.9 MiB           1   def sum_of_list(N) :\n",
    "     2     69.9 MiB      0.0 MiB           1       total =0 \n",
    "     3     69.9 MiB      0.0 MiB           6       for i in range(5) : \n",
    "     4     72.7 MiB -615987.5 MiB      500015           L = [j^ (j >> 1) for j in range (N)] \n",
    "     5     72.7 MiB      0.0 MiB           5           total += sum(L)\n",
    "     6     69.9 MiB    -14.4 MiB           5           del L ##Remove Ref to L\n",
    "     7     69.9 MiB      0.0 MiB           1       return total"
   ]
  },
  {
   "cell_type": "markdown",
   "metadata": {},
   "source": [
    "Here the Increment column tells us how much each line affects the total memory budget: observe that when we create and delete the list L, we are adding about 25 MB of memory usage. This is on top of the background memory usage from the Python interpreter itself."
   ]
  },
  {
   "cell_type": "code",
   "execution_count": null,
   "metadata": {
    "collapsed": true
   },
   "outputs": [],
   "source": []
  }
 ],
 "metadata": {
  "kernelspec": {
   "display_name": "Python 3",
   "language": "python",
   "name": "python3"
  },
  "language_info": {
   "codemirror_mode": {
    "name": "ipython",
    "version": 3
   },
   "file_extension": ".py",
   "mimetype": "text/x-python",
   "name": "python",
   "nbconvert_exporter": "python",
   "pygments_lexer": "ipython3",
   "version": "3.6.3"
  }
 },
 "nbformat": 4,
 "nbformat_minor": 2
}
